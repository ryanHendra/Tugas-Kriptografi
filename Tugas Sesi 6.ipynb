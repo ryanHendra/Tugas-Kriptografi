{
 "cells": [
  {
   "cell_type": "markdown",
   "metadata": {},
   "source": [
    "Nama:Ryan Hendra Dwi Cahya\n",
    "NIM:20220801392\n",
    "Mata Kuliah :Kriptografi"
   ]
  },
  {
   "cell_type": "code",
   "execution_count": 3,
   "metadata": {},
   "outputs": [
    {
     "name": "stdout",
     "output_type": "stream",
     "text": [
      "Plaintext:  TECHNIQUSARYPOG\n",
      "Ciphertext: TRYYOLKFZAEUGPJ\n"
     ]
    }
   ],
   "source": [
    "def enkripsi_subtitusi_dengan_modulus(plaintext, kunci):\n",
    "    # Hilangkan spasi, konversi ke huruf besar, dan buang huruf yang berulang\n",
    "    plaintext = \"\".join(dict.fromkeys(plaintext.replace(\" \", \"\").upper()))\n",
    "    kunci = \"\".join(dict.fromkeys(kunci.replace(\" \", \"\").upper()))\n",
    "    \n",
    "    # Panjang teks dan kunci\n",
    "    panjang_plaintext = len(plaintext)\n",
    "    panjang_kunci = len(kunci)\n",
    "    \n",
    "    # Perpanjang kunci hingga panjangnya sama dengan plaintext\n",
    "    kunci_ulang = (kunci * ((panjang_plaintext // panjang_kunci) + 1))[:panjang_plaintext]\n",
    "    \n",
    "    # Alphabet untuk referensi indeks\n",
    "    alphabet = \"ABCDEFGHIJKLMNOPQRSTUVWXYZ\"\n",
    "    \n",
    "    # List untuk menyimpan hasil substitusi\n",
    "    hasil_substitusi = []\n",
    "    \n",
    "    # Lakukan enkripsi substitusi\n",
    "    for i in range(panjang_plaintext):\n",
    "        indeks_plaintext = alphabet.index(plaintext[i])  # Indeks karakter plaintext\n",
    "        indeks_kunci = alphabet.index(kunci_ulang[i])    # Indeks karakter kunci\n",
    "        indeks_enkripsi = (indeks_plaintext + indeks_kunci) % 26  # Operasi modulus 26\n",
    "        hasil_substitusi.append(alphabet[indeks_enkripsi])  # Tambahkan karakter hasil enkripsi\n",
    "    \n",
    "    # Gabungkan hasil substitusi menjadi ciphertext\n",
    "    ciphertext = ''.join(hasil_substitusi)\n",
    "    return ciphertext\n",
    "\n",
    "# Input data\n",
    "plaintext = \"TECHNIQUSARYPOG\"\n",
    "kunci = \"ANWRBDULH\"\n",
    "\n",
    "# Hasil enkripsi\n",
    "print(\"Plaintext: \", plaintext)\n",
    "ciphertext = enkripsi_subtitusi_dengan_modulus(plaintext, kunci)\n",
    "print(\"Ciphertext:\", ciphertext)\n"
   ]
  },
  {
   "cell_type": "code",
   "execution_count": null,
   "metadata": {},
   "outputs": [],
   "source": []
  }
 ],
 "metadata": {
  "kernelspec": {
   "display_name": "Python 3",
   "language": "python",
   "name": "python3"
  },
  "language_info": {
   "codemirror_mode": {
    "name": "ipython",
    "version": 3
   },
   "file_extension": ".py",
   "mimetype": "text/x-python",
   "name": "python",
   "nbconvert_exporter": "python",
   "pygments_lexer": "ipython3",
   "version": "3.12.3"
  }
 },
 "nbformat": 4,
 "nbformat_minor": 2
}
