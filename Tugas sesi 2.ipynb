{
 "cells": [
  {
   "cell_type": "markdown",
   "metadata": {},
   "source": [
    "Nama :Ryan Hendra Dwi Cahya\n",
    "NIM :20220801392\n",
    "Mata Kuliah :Kriptografi"
   ]
  },
  {
   "cell_type": "markdown",
   "metadata": {},
   "source": [
    "1.Tekink Kriptografi SUBTITUSI dengan Plaintext \"RYAN HENDRA DWI CAHYA\" dan jumlah pergeseran subtitusinya 6"
   ]
  },
  {
   "cell_type": "code",
   "execution_count": 7,
   "metadata": {},
   "outputs": [
    {
     "name": "stdout",
     "output_type": "stream",
     "text": [
      "Cipher Substitusi: XEGT NKTJXG JCO IGNEG\n"
     ]
    }
   ],
   "source": [
    "def cipher_substitusi(plaintext, shift):\n",
    "    hasil = \"\"\n",
    "    for karakter in plaintext:\n",
    "        if karakter.isalpha():\n",
    "            # Geser huruf berdasarkan nilai shift yang ditentukan\n",
    "            shift_base = 65 if karakter.isupper() else 97\n",
    "            hasil += chr((ord(karakter) - shift_base + shift) % 26 + shift_base)\n",
    "        else:\n",
    "            hasil += karakter  # Biarkan spasi dan karakter non-huruf tetap\n",
    "    return hasil\n",
    "\n",
    "# Contoh penggunaan\n",
    "plaintext = \"RYAN HENDRA DWI CAHYA\"\n",
    "shift = 6 # Cipher Caesar dengan pergeseran 6\n",
    "ciphertext = cipher_substitusi(plaintext, shift)\n",
    "print(\"Cipher Substitusi:\", ciphertext)\n"
   ]
  },
  {
   "cell_type": "markdown",
   "metadata": {},
   "source": [
    "2.Teknik Kriptografi BLOKING dengan menggunakan Matriks 5x5 dengan Plaintext \"RYAN HENDRA DWI CAHYA\""
   ]
  },
  {
   "cell_type": "code",
   "execution_count": 5,
   "metadata": {},
   "outputs": [
    {
     "name": "stdout",
     "output_type": "stream",
     "text": [
      "Matriks 5x5:\n",
      "R H A   A\n",
      "Y E   C X\n",
      "A N D A X\n",
      "N D W H X\n",
      "  R I Y X\n",
      "\n",
      "Ciphertext yang terbaca: RHA AYE CXANDAXNDWHX RIYX\n"
     ]
    }
   ],
   "source": [
    "def cipher_block_5x5_vertical(plaintext):\n",
    "    # Tambahkan padding jika panjang teks kurang dari 25 karakter\n",
    "    while len(plaintext) < 25:\n",
    "        plaintext += 'X'  # Gunakan 'X' sebagai padding\n",
    "    \n",
    "    # Ambil hanya 25 karakter pertama jika teks lebih panjang\n",
    "    plaintext = plaintext[:25]\n",
    "    \n",
    "    # Inisialisasi matriks kosong 5x5\n",
    "    matrix = [['' for _ in range(5)] for _ in range(5)]\n",
    "    \n",
    "    # Isi matriks dengan teks per kolom (secara vertikal)\n",
    "    index = 0\n",
    "    for col in range(5):\n",
    "        for row in range(5):\n",
    "            matrix[row][col] = plaintext[index]\n",
    "            index += 1\n",
    "    \n",
    "    # Format tampilan dalam bentuk matriks 5x5\n",
    "    print(\"Matriks 5x5:\")\n",
    "    for baris in matrix:\n",
    "        print(\" \".join(baris))\n",
    "    \n",
    "    return matrix\n",
    "\n",
    "def baca_ciphertext(matrix):\n",
    "    # Membaca matriks secara horizontal (baris demi baris)\n",
    "    ciphertext = \"\"\n",
    "    for row in matrix:\n",
    "        ciphertext += \"\".join(row)\n",
    "    return ciphertext\n",
    "\n",
    "# Contoh penggunaan\n",
    "plaintext = \"RYAN HENDRA DWI CAHYA\"\n",
    "matrix = cipher_block_5x5_vertical(plaintext)\n",
    "ciphertext = baca_ciphertext(matrix)\n",
    "\n",
    "print(\"\\nCiphertext yang terbaca:\", ciphertext)\n"
   ]
  },
  {
   "cell_type": "markdown",
   "metadata": {},
   "source": [
    "3.Teknik Kriptografi PEMUTASIAN Dengan kunci(3,2,1,0) dan plaintext \"RYAN HENDRA DWI CAHYA\""
   ]
  },
  {
   "cell_type": "code",
   "execution_count": 10,
   "metadata": {},
   "outputs": [
    {
     "name": "stdout",
     "output_type": "stream",
     "text": [
      "Cipher Permutasi: NAYRNEH  ARD IWDYHAC   A\n",
      "Blok: 'RYAN' -> Pemetaan: 'NAYR'\n",
      "Blok: ' HEN' -> Pemetaan: 'NEH '\n",
      "Blok: 'DRA ' -> Pemetaan: ' ARD'\n",
      "Blok: 'DWI ' -> Pemetaan: ' IWD'\n",
      "Blok: 'CAHY' -> Pemetaan: 'YHAC'\n",
      "Blok: 'A' -> Pemetaan: '   A'\n"
     ]
    }
   ],
   "source": [
    "def pemetaan_cipher(plaintext, kunci):\n",
    "    # Panjang kunci\n",
    "    panjang_kunci = len(kunci)\n",
    "    \n",
    "    # Buat list untuk menyimpan hasil pemetaan\n",
    "    hasil_pemetaan = []\n",
    "    \n",
    "    # Iterasi melalui plaintext dalam blok sesuai panjang kunci\n",
    "    for i in range(0, len(plaintext), panjang_kunci):\n",
    "        # Ambil blok karakter sepanjang kunci\n",
    "        blok = plaintext[i:i + panjang_kunci]\n",
    "        \n",
    "        # Jika panjang blok kurang dari panjang kunci, isi dengan spasi\n",
    "        if len(blok) < panjang_kunci:\n",
    "            blok = list(blok) + [' '] * (panjang_kunci - len(blok))  # Isi dengan spasi jika blok kurang dari panjang kunci\n",
    "        \n",
    "        # Pemetaan berdasarkan kunci\n",
    "        blok_permutasi = [''] * panjang_kunci\n",
    "        for j, posisi in enumerate(kunci):\n",
    "            blok_permutasi[j] = blok[posisi]\n",
    "        \n",
    "        # Gabungkan hasil blok\n",
    "        hasil_pemetaan.append(''.join(blok_permutasi))\n",
    "    \n",
    "    return ''.join(hasil_pemetaan)\n",
    "\n",
    "# Contoh penggunaan\n",
    "plaintext = \"RYAN HENDRA DWI CAHYA\"\n",
    "kunci = [3, 2, 1, 0]  # Kunci untuk mengubah posisi karakter\n",
    "\n",
    "# Terapkan pemetaan\n",
    "ciphertext = pemetaan_cipher(plaintext, kunci)\n",
    "print(\"Cipher Permutasi:\", ciphertext)\n",
    "\n",
    "# Menampilkan pemetaan untuk setiap blok\n",
    "for i in range(0, len(plaintext), len(kunci)):\n",
    "    blok = plaintext[i:i + len(kunci)]\n",
    "    print(f\"Blok: '{blok}' -> Pemetaan: '{ciphertext[i:i + len(kunci)]}'\")\n"
   ]
  }
 ],
 "metadata": {
  "kernelspec": {
   "display_name": "Python 3",
   "language": "python",
   "name": "python3"
  },
  "language_info": {
   "codemirror_mode": {
    "name": "ipython",
    "version": 3
   },
   "file_extension": ".py",
   "mimetype": "text/x-python",
   "name": "python",
   "nbconvert_exporter": "python",
   "pygments_lexer": "ipython3",
   "version": "3.12.3"
  }
 },
 "nbformat": 4,
 "nbformat_minor": 2
}
