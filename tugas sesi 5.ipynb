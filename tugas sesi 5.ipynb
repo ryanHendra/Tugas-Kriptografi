{
 "cells": [
  {
   "cell_type": "markdown",
   "metadata": {},
   "source": [
    "Tugas sesi 5\n",
    "Nama:Ryan Hendra Dwi Cahya\n",
    "Nim:20220801392\n",
    "Mata Kuliah Kriptografi"
   ]
  },
  {
   "cell_type": "code",
   "execution_count": 1,
   "metadata": {},
   "outputs": [
    {
     "name": "stdout",
     "output_type": "stream",
     "text": [
      "Plaintext:  RYAN HENDRA DWI CAHYA\n",
      "Ciphertext:  MTVI CZIYMV YRD XVCTV\n"
     ]
    }
   ],
   "source": [
    "def caesar_enkripsi(plaintext, kunci):\n",
    "    hasil_enkripsi = []\n",
    "    \n",
    "    # Loop untuk setiap karakter di dalam plaintext\n",
    "    for karakter in plaintext:\n",
    "        # Jika karakter adalah huruf besar\n",
    "        if karakter.isupper():\n",
    "            # Menggeser karakter dalam rentang A-Z\n",
    "            karakter_tergeser = chr((ord(karakter) - ord('A') + kunci) % 26 + ord('A'))\n",
    "            hasil_enkripsi.append(karakter_tergeser)\n",
    "        # Jika karakter adalah huruf kecil\n",
    "        elif karakter.islower():\n",
    "            # Menggeser karakter dalam rentang a-z\n",
    "            karakter_tergeser = chr((ord(karakter) - ord('a') + kunci) % 26 + ord('a'))\n",
    "            hasil_enkripsi.append(karakter_tergeser)\n",
    "        else:\n",
    "            # Jika bukan huruf (misalnya spasi), tidak diubah\n",
    "            hasil_enkripsi.append(karakter)\n",
    "    \n",
    "    # Menggabungkan hasil enkripsi menjadi string dan mengembalikannya\n",
    "    return ''.join(hasil_enkripsi)\n",
    "\n",
    "# Plaintext dan kunci\n",
    "plaintext = \"RYAN HENDRA DWI CAHYA\"\n",
    "kunci = len(plaintext)  # Menggunakan panjang plaintext sebagai kunci\n",
    "\n",
    "# Mengenkripsi pesan menggunakan sandi Caesar\n",
    "ciphertext = caesar_enkripsi(plaintext, kunci)\n",
    "\n",
    "print(\"Plaintext: \", plaintext)\n",
    "print(\"Ciphertext: \", ciphertext)\n"
   ]
  },
  {
   "cell_type": "code",
   "execution_count": null,
   "metadata": {},
   "outputs": [],
   "source": []
  },
  {
   "cell_type": "code",
   "execution_count": null,
   "metadata": {},
   "outputs": [],
   "source": []
  }
 ],
 "metadata": {
  "kernelspec": {
   "display_name": "Python 3",
   "language": "python",
   "name": "python3"
  },
  "language_info": {
   "codemirror_mode": {
    "name": "ipython",
    "version": 3
   },
   "file_extension": ".py",
   "mimetype": "text/x-python",
   "name": "python",
   "nbconvert_exporter": "python",
   "pygments_lexer": "ipython3",
   "version": "3.12.3"
  }
 },
 "nbformat": 4,
 "nbformat_minor": 2
}
